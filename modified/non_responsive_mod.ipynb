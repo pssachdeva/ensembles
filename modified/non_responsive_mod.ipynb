{
 "cells": [
  {
   "cell_type": "code",
   "execution_count": 1,
   "metadata": {
    "collapsed": true
   },
   "outputs": [],
   "source": [
    "import os\n",
    "import sys\n",
    "import numpy as np\n",
    "import pandas as pd\n",
    "import matplotlib.pyplot as plt\n",
    "from non_responsive_coding_mod import *"
   ]
  },
  {
   "cell_type": "code",
   "execution_count": 2,
   "metadata": {
    "collapsed": true
   },
   "outputs": [],
   "source": [
    "# drive path for Mac OS\n",
    "drive_path = '/Volumes/Brain2017/data/dynamic-brain-workshop/brain_observatory_cache/'"
   ]
  },
  {
   "cell_type": "code",
   "execution_count": 3,
   "metadata": {
    "collapsed": true
   },
   "outputs": [],
   "source": [
    "# set up brain observatory cache\n",
    "from allensdk.core.brain_observatory_cache import BrainObservatoryCache\n",
    "manifest_file = os.path.join(drive_path,'brain_observatory_manifest.json')\n",
    "boc = BrainObservatoryCache(manifest_file = manifest_file)"
   ]
  },
  {
   "cell_type": "code",
   "execution_count": 5,
   "metadata": {
    "collapsed": true
   },
   "outputs": [],
   "source": [
    "area = 'VISrl'\n",
    "# grab list of experiment ids\n",
    "exp_list = get_experiment_ids(boc, targeted_structures=[area])\n",
    "# grab session ids \n",
    "session_ids = get_session_ids(boc, exp_list)\n",
    "# grab the dataset for our experiment ids, all session B\n",
    "session_B_dataset = get_dataset(boc, exp_list, 'session_B')"
   ]
  },
  {
   "cell_type": "code",
   "execution_count": 24,
   "metadata": {
    "collapsed": false
   },
   "outputs": [],
   "source": [
    "interstim_traces = get_interstim_traces(boc, session_ids[exp_list[1]].values())"
   ]
  },
  {
   "cell_type": "code",
   "execution_count": null,
   "metadata": {
    "collapsed": true
   },
   "outputs": [],
   "source": [
    "# get the delta traces. should take a minute or so\n",
    "dffs = create_delta_traces(session_B_dataset)"
   ]
  }
 ],
 "metadata": {
  "kernelspec": {
   "display_name": "Python 2",
   "language": "python",
   "name": "python2"
  },
  "language_info": {
   "codemirror_mode": {
    "name": "ipython",
    "version": 2
   },
   "file_extension": ".py",
   "mimetype": "text/x-python",
   "name": "python",
   "nbconvert_exporter": "python",
   "pygments_lexer": "ipython2",
   "version": "2.7.12"
  }
 },
 "nbformat": 4,
 "nbformat_minor": 2
}
